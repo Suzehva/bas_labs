{
 "cells": [
  {
   "cell_type": "code",
   "execution_count": 17,
   "metadata": {},
   "outputs": [],
   "source": [
    "from pyvis.network import Network\n",
    "from IPython.display import HTML\n",
    "import json\n",
    "\n",
    "def load_json(file_path):\n",
    "    with open(file_path, 'r') as file:\n",
    "        data = json.load(file)\n",
    "    return data\n",
    "\n",
    "data = load_json(\"../../vectorbase/data/mock_climate_action.json\")"
   ]
  },
  {
   "cell_type": "code",
   "execution_count": 31,
   "metadata": {},
   "outputs": [
    {
     "name": "stdout",
     "output_type": "stream",
     "text": [
      "Warning: When  cdn_resources is 'local' jupyter notebook has issues displaying graphics on chrome/safari. Use cdn_resources='in_line' or cdn_resources='remote' if you have issues viewing graphics in a notebook.\n",
      "nodes.html\n"
     ]
    },
    {
     "data": {
      "text/html": [
       "\n",
       "        <iframe\n",
       "            width=\"100%\"\n",
       "            height=\"700px\"\n",
       "            src=\"nodes.html\"\n",
       "            frameborder=\"0\"\n",
       "            allowfullscreen\n",
       "            \n",
       "        ></iframe>\n",
       "        "
      ],
      "text/plain": [
       "<IPython.lib.display.IFrame at 0x1062f0a00>"
      ]
     },
     "execution_count": 31,
     "metadata": {},
     "output_type": "execute_result"
    }
   ],
   "source": [
    "net = Network(\n",
    "    notebook=True, height=\"700px\", width=\"100%\", bgcolor=\"#ffffff\", font_color=\"black\"\n",
    ")\n",
    "\n",
    "sector_colors = {\n",
    "    \"Manufacturing\": \"#3da831\",\n",
    "    \"Energy\": \"#3155a8\",\n",
    "    \"Transportation\": \"#a85d31\",\n",
    "    \"Technology & IT\": \"#9a31a8\",\n",
    "    \"Buildings & Infrastructure\": \"#3da831\",\n",
    "    \"Circular Economy\": \"#9a31a8\",\n",
    "    \"Food & Agriculture\": \"#ff8c00\",\n",
    "    \"Water & Natural Resources\": \"#008080\",\n",
    "}\n",
    "\n",
    "\n",
    "# Track added nodes\n",
    "added_nodes = set()\n",
    "added_edges = set()\n",
    "\n",
    "def get_same_sector(item):\n",
    "    return [d for d in data if d[\"sector\"] == item[\"sector\"] and d != item]\n",
    "\n",
    "# Add companies as nodes\n",
    "for entry in data:\n",
    "    company = entry[\"company\"]\n",
    "    sector = entry[\"sector\"]\n",
    "    color = sector_colors.get(sector, \"#888888\")  # Default gray for unknown sectors\n",
    "\n",
    "    net.add_node(company, label=company, sector=sector, color=color, title=f\"Sector: {sector}\")\n",
    "    added_nodes.add((company, sector))\n",
    "\n",
    "for node_a, sector_a in added_nodes:\n",
    "    for node_b, sector_b in added_nodes:\n",
    "        if node_a == node_b: continue\n",
    "        if sector_a == sector_b:\n",
    "            net.add_edge(node_a, node_b)\n",
    "\n",
    "    # Add tag nodes and connect them\n",
    "    # for tag in entry[\"tags\"]:\n",
    "    #     if tag not in added_nodes:\n",
    "    #         net.add_node(tag, label=tag, color=\"#eb4034\", title=\"Tag\")  # Tags in red\n",
    "    #         added_nodes.add(tag)\n",
    "    #     net.add_edge(company, tag)\n",
    "\n",
    "# Show network\n",
    "net.repulsion(100, spring_length=200)\n",
    "net.show_buttons(filter_=True)\n",
    "net.show(\"nodes.html\")"
   ]
  },
  {
   "cell_type": "code",
   "execution_count": null,
   "metadata": {},
   "outputs": [],
   "source": []
  },
  {
   "cell_type": "code",
   "execution_count": 11,
   "metadata": {},
   "outputs": [
    {
     "name": "stdout",
     "output_type": "stream",
     "text": [
      "Warning: When  cdn_resources is 'local' jupyter notebook has issues displaying graphics on chrome/safari. Use cdn_resources='in_line' or cdn_resources='remote' if you have issues viewing graphics in a notebook.\n",
      "nodes.html\n",
      "nodes.html\n",
      "Warning: When  cdn_resources is 'local' jupyter notebook has issues displaying graphics on chrome/safari. Use cdn_resources='in_line' or cdn_resources='remote' if you have issues viewing graphics in a notebook.\n",
      "nodes.html\n"
     ]
    },
    {
     "data": {
      "text/html": [
       "\n",
       "        <iframe\n",
       "            width=\"100%\"\n",
       "            height=\"600px\"\n",
       "            src=\"nodes.html\"\n",
       "            frameborder=\"0\"\n",
       "            allowfullscreen\n",
       "            \n",
       "        ></iframe>\n",
       "        "
      ],
      "text/plain": [
       "<IPython.lib.display.IFrame at 0x106132400>"
      ]
     },
     "execution_count": 11,
     "metadata": {},
     "output_type": "execute_result"
    }
   ],
   "source": [
    "net = Network(notebook=True)\n",
    "net.add_node(1, label=\"Alex\")\n",
    "net.add_node(2, label=\"Cathy\")\n",
    "net.show(\"nodes.html\")\n",
    "\n",
    "\n",
    "net.add_nodes(\n",
    "    [3, 4, 5, 6],\n",
    "    label=[\"Michael\", \"Ben\", \"Oliver\", \"Olivia\"],\n",
    "    color=[\"#3da831\", \"#9a31a8\", \"#3155a8\", \"#eb4034\"],\n",
    ")\n",
    "net.show(\"nodes.html\")\n",
    "\n",
    "net = Network(notebook=True)\n",
    "\n",
    "net.add_nodes(\n",
    "    [1, 2, 3, 4, 5, 6],\n",
    "    label=[\"Alex\", \"Cathy\", \"Michael\", \"Ben\", \"Oliver\", \"Olivia\"],\n",
    "    color=[\"#00bfff\", \"#ffc0cb\", \"#3da831\", \"#9a31a8\", \"#3155a8\", \"#eb4034\"],\n",
    ")\n",
    "\n",
    "net.add_edge(1, 5)\n",
    "net.add_edges([(2, 5), (3, 4), (1, 6), (2, 6), (3, 5)])\n",
    "net.show(\"nodes.html\")"
   ]
  },
  {
   "cell_type": "code",
   "execution_count": null,
   "metadata": {},
   "outputs": [],
   "source": []
  }
 ],
 "metadata": {
  "kernelspec": {
   "display_name": ".venv",
   "language": "python",
   "name": "python3"
  },
  "language_info": {
   "codemirror_mode": {
    "name": "ipython",
    "version": 3
   },
   "file_extension": ".py",
   "mimetype": "text/x-python",
   "name": "python",
   "nbconvert_exporter": "python",
   "pygments_lexer": "ipython3",
   "version": "3.9.20"
  }
 },
 "nbformat": 4,
 "nbformat_minor": 2
}
